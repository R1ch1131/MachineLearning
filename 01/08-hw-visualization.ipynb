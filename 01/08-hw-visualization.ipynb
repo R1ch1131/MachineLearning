{
 "cells": [
  {
   "cell_type": "markdown",
   "metadata": {
    "colab_type": "text",
    "id": "I2rTGDBJWkgW"
   },
   "source": [
    "# Домашная работа. Визуальный анализ.\n",
    "\n",
    "1. Скачайте этот ноутбук к себе.\n",
    "2. Заполните пропущенные ячейки, отвечая на заданные вопросы. Там должен быть код! (если не сказано обратное)\n",
    "3. Сохраните результат в своём репозитории.\n",
    "\n",
    "#### Полезная литература\n",
    "\n",
    "- [Галерея графиков Matplotlib](https://matplotlib.org/gallery/index.html)\n",
    "- [Галерея графиков Seaborn](http://seaborn.pydata.org/examples/index.html)\n",
    "- [Открытый курс машинного обучения. Тема 2: Визуализация данных c Python](https://habr.com/company/ods/blog/323210/)"
   ]
  },
  {
   "cell_type": "code",
   "execution_count": 1,
   "metadata": {
    "colab": {},
    "colab_type": "code",
    "id": "xXXNyGgor8cS"
   },
   "outputs": [],
   "source": [
    "import pandas as pd\n",
    "import matplotlib.pyplot as plt\n",
    "import seaborn as sns"
   ]
  },
  {
   "cell_type": "markdown",
   "metadata": {
    "colab_type": "text",
    "id": "vLudpr72YzsA"
   },
   "source": [
    "## Визуальный анализ данных\n",
    "\n",
    "В этом задании вам предлагается провести визуальный анализ датасета результатов экзаменов студентов  https://www.kaggle.com/spscientist/students-performance-in-exams. "
   ]
  },
  {
   "cell_type": "code",
   "execution_count": null,
   "metadata": {
    "colab": {},
    "colab_type": "code",
    "id": "NASz2d9Qsn2y"
   },
   "outputs": [
    {
     "data": {
      "text/html": [
       "<div>\n",
       "<style scoped>\n",
       "    .dataframe tbody tr th:only-of-type {\n",
       "        vertical-align: middle;\n",
       "    }\n",
       "\n",
       "    .dataframe tbody tr th {\n",
       "        vertical-align: top;\n",
       "    }\n",
       "\n",
       "    .dataframe thead th {\n",
       "        text-align: right;\n",
       "    }\n",
       "</style>\n",
       "<table border=\"1\" class=\"dataframe\">\n",
       "  <thead>\n",
       "    <tr style=\"text-align: right;\">\n",
       "      <th></th>\n",
       "      <th>gender</th>\n",
       "      <th>race/ethnicity</th>\n",
       "      <th>parental level of education</th>\n",
       "      <th>lunch</th>\n",
       "      <th>test preparation course</th>\n",
       "      <th>math score</th>\n",
       "      <th>reading score</th>\n",
       "      <th>writing score</th>\n",
       "    </tr>\n",
       "  </thead>\n",
       "  <tbody>\n",
       "    <tr>\n",
       "      <th>0</th>\n",
       "      <td>female</td>\n",
       "      <td>group B</td>\n",
       "      <td>bachelor's degree</td>\n",
       "      <td>standard</td>\n",
       "      <td>none</td>\n",
       "      <td>72</td>\n",
       "      <td>72</td>\n",
       "      <td>74</td>\n",
       "    </tr>\n",
       "    <tr>\n",
       "      <th>1</th>\n",
       "      <td>female</td>\n",
       "      <td>group C</td>\n",
       "      <td>some college</td>\n",
       "      <td>standard</td>\n",
       "      <td>completed</td>\n",
       "      <td>69</td>\n",
       "      <td>90</td>\n",
       "      <td>88</td>\n",
       "    </tr>\n",
       "    <tr>\n",
       "      <th>2</th>\n",
       "      <td>female</td>\n",
       "      <td>group B</td>\n",
       "      <td>master's degree</td>\n",
       "      <td>standard</td>\n",
       "      <td>none</td>\n",
       "      <td>90</td>\n",
       "      <td>95</td>\n",
       "      <td>93</td>\n",
       "    </tr>\n",
       "    <tr>\n",
       "      <th>3</th>\n",
       "      <td>male</td>\n",
       "      <td>group A</td>\n",
       "      <td>associate's degree</td>\n",
       "      <td>free/reduced</td>\n",
       "      <td>none</td>\n",
       "      <td>47</td>\n",
       "      <td>57</td>\n",
       "      <td>44</td>\n",
       "    </tr>\n",
       "    <tr>\n",
       "      <th>4</th>\n",
       "      <td>male</td>\n",
       "      <td>group C</td>\n",
       "      <td>some college</td>\n",
       "      <td>standard</td>\n",
       "      <td>none</td>\n",
       "      <td>76</td>\n",
       "      <td>78</td>\n",
       "      <td>75</td>\n",
       "    </tr>\n",
       "  </tbody>\n",
       "</table>\n",
       "</div>"
      ],
      "text/plain": [
       "   gender race/ethnicity parental level of education         lunch  \\\n",
       "0  female        group B           bachelor's degree      standard   \n",
       "1  female        group C                some college      standard   \n",
       "2  female        group B             master's degree      standard   \n",
       "3    male        group A          associate's degree  free/reduced   \n",
       "4    male        group C                some college      standard   \n",
       "\n",
       "  test preparation course  math score  reading score  writing score  \n",
       "0                    none          72             72             74  \n",
       "1               completed          69             90             88  \n",
       "2                    none          90             95             93  \n",
       "3                    none          47             57             44  \n",
       "4                    none          76             78             75  "
      ]
     },
     "execution_count": 2,
     "metadata": {},
     "output_type": "execute_result"
    }
   ],
   "source": [
    "import os\n",
    "import pandas as pd\n",
    "from google.colab import files\n",
    "\n",
    "# Загрузите файл\n",
    "uploaded = files.upload()\n",
    "\n",
    "# Прочитайте файл\n",
    "df = pd.read_csv(\"StudentsPerformance.csv\")"
   ]
  },
  {
   "cell_type": "markdown",
   "metadata": {
    "colab_type": "text",
    "id": "bXQbQ_rSGvSm"
   },
   "source": [
    "## Задания\n",
    "#### 1. Постройте 3 графика, показывающих распределение результатов экзаменов (каждый график на предмет).\n",
    "\n",
    "\n",
    "Графики должны быть в одном ряду и у них должен быть общий заголовок \"Результаты экзаменов\".\n",
    "\n",
    "Для результатов каждого экзамена посчитайте медианные значения.\n"
   ]
  },
  {
   "cell_type": "code",
   "execution_count": null,
   "metadata": {
    "colab": {},
    "colab_type": "code",
    "id": "0_N-Vhj52AZe"
   },
   "outputs": [],
   "source": [
    "import pandas as pd\n",
    "import matplotlib.pyplot as plt\n",
    "import seaborn as sns\n",
    "\n",
    "# Загрузка данных\n",
    "df = pd.read_csv(\"StudentsPerformance.csv\")\n",
    "\n",
    "# Настройка графиков\n",
    "fig, axes = plt.subplots(1, 3, figsize=(18, 6))\n",
    "fig.suptitle('Результаты экзаменов')\n",
    "\n",
    "# График для результатов по математике\n",
    "sns.histplot(df['math score'], kde=True, ax=axes[0])\n",
    "axes[0].set_title('Math Score')\n",
    "axes[0].axvline(df['math score'].median(), color='red', linestyle='--')\n",
    "\n",
    "# График для результатов по чтению\n",
    "sns.histplot(df['reading score'], kde=True, ax=axes[1])\n",
    "axes[1].set_title('Reading Score')\n",
    "axes[1].axvline(df['reading score'].median(), color='red', linestyle='--')\n",
    "\n",
    "# График для результатов по письму\n",
    "sns.histplot(df['writing score'], kde=True, ax=axes[2])\n",
    "axes[2].set_title('Writing Score')\n",
    "axes[2].axvline(df['writing score'].median(), color='red', linestyle='--')\n",
    "\n",
    "# Показать графики\n",
    "plt.show()\n",
    "\n",
    "# Вывод медианных значений\n",
    "print(\"Медианное значение по математике:\", df['math score'].median())\n",
    "print(\"Медианное значение по чтению:\", df['reading score'].median())\n",
    "print(\"Медианное значение по письму:\", df['writing score'].median())"
   ]
  },
  {
   "cell_type": "code",
   "execution_count": null,
   "metadata": {
    "colab": {},
    "colab_type": "code",
    "id": "uyODj6A99nR2"
   },
   "outputs": [],
   "source": []
  },
  {
   "cell_type": "markdown",
   "metadata": {
    "colab_type": "text",
    "id": "Iu0c3MQzIBBC"
   },
   "source": [
    "#### 2. Образование родителей\n",
    "Какие уровни образование есть в столбце *'parental level of education'* и сколько строк в датафрейме соответствует каждому уровню? \n",
    "\n",
    "Постройте график и ответьте на вопрос ниже\n",
    "\n",
    "Отличаются ли баллы по математике у детей с разным образованием родителей?\n",
    "Постройте график, где по оси Х находятся уровни образования родителей, а по У - баллы по математике.\n"
   ]
  },
  {
   "cell_type": "code",
   "execution_count": null,
   "metadata": {
    "colab": {},
    "colab_type": "code",
    "id": "-k2XGvhDxwFm"
   },
   "outputs": [],
   "source": [
    "# Уровни образования родителей и количество строк\n",
    "parent_education_counts = df['parental level of education'].value_counts()\n",
    "print(parent_education_counts)\n",
    "\n",
    "# График зависимости баллов по математике от уровня образования родителей\n",
    "plt.figure(figsize=(10, 6))\n",
    "sns.boxplot(x='parental level of education', y='math score', data=df)\n",
    "plt.xticks(rotation=45)\n",
    "plt.title('Зависимость баллов по математике от уровня образования родителей')\n",
    "plt.show()"
   ]
  },
  {
   "cell_type": "markdown",
   "metadata": {
    "colab_type": "text",
    "id": "Sw9FPFiSIYfv"
   },
   "source": [
    "#### 3. Выведите число студенток, набравших больше 90 баллов по всем предметам.\n"
   ]
  },
  {
   "cell_type": "code",
   "execution_count": null,
   "metadata": {
    "colab": {},
    "colab_type": "code",
    "id": "GLxqaInREE6c"
   },
   "outputs": [],
   "source": [
    "# Фильтрация по условиям: пол - женский, баллы > 90 по всем предметам\n",
    "high_achieving_girls = df[(df['gender'] == 'female') & \n",
    "                          (df['math score'] > 90) & \n",
    "                          (df['reading score'] > 90) & \n",
    "                          (df['writing score'] > 90)]\n",
    "\n",
    "# Число таких студенток\n",
    "print(\"Количество студенток, набравших больше 90 баллов по всем предметам:\", len(high_achieving_girls))"
   ]
  },
  {
   "cell_type": "markdown",
   "metadata": {
    "colab_type": "text",
    "id": "p1djXs5-EmEE"
   },
   "source": [
    "#### 4. Сравните баллы у студентов разных полов. Используя agg() выведите минимальное, максимальное и медианное значение\n",
    " "
   ]
  },
  {
   "cell_type": "code",
   "execution_count": null,
   "metadata": {
    "colab": {},
    "colab_type": "code",
    "id": "TNHyt2UOFH4i"
   },
   "outputs": [],
   "source": [
    "# Агрегация данных по полу\n",
    "gender_scores = df.groupby('gender').agg({\n",
    "    'math score': ['min', 'max', 'median'],\n",
    "    'reading score': ['min', 'max', 'median'],\n",
    "    'writing score': ['min', 'max', 'median']\n",
    "})\n",
    "\n",
    "print(gender_scores)"
   ]
  },
  {
   "cell_type": "markdown",
   "metadata": {
    "colab_type": "text",
    "id": "GLRV8yYSFWxc"
   },
   "source": [
    "#### 5. Выясните, влияет ли обед и подготовка к тесту на средний балл студентов разного пола \n",
    "###### (подсказка: используете agg())"
   ]
  },
  {
   "cell_type": "code",
   "execution_count": null,
   "metadata": {
    "colab": {},
    "colab_type": "code",
    "id": "NZqvqVFBFSAX"
   },
   "outputs": [],
   "source": [
    "# Агрегация данных по полу, обеду и подготовке к тесту\n",
    "meal_test_prep_scores = df.groupby(['gender', 'lunch', 'test preparation course']).agg({\n",
    "    'math score': 'mean',\n",
    "    'reading score': 'mean',\n",
    "    'writing score': 'mean'\n",
    "})\n",
    "\n",
    "print(meal_test_prep_scores)"
   ]
  },
  {
   "cell_type": "markdown",
   "metadata": {
    "colab_type": "text",
    "id": "4iWfT1LAIsD6"
   },
   "source": [
    "#### 6. Постройте график, показывающий зависимость уровня образования родителей от их расы "
   ]
  },
  {
   "cell_type": "code",
   "execution_count": null,
   "metadata": {
    "colab": {},
    "colab_type": "code",
    "id": "Yq59hOngIrZU"
   },
   "outputs": [],
   "source": [
    "plt.figure(figsize=(10, 6))\n",
    "sns.countplot(x='race/ethnicity', hue='parental level of education', data=df)\n",
    "plt.title('Зависимость уровня образования родителей от их расы')\n",
    "plt.xticks(rotation=45)\n",
    "plt.show()"
   ]
  },
  {
   "cell_type": "markdown",
   "metadata": {
    "colab_type": "text",
    "id": "WEuMRUTXJhGR"
   },
   "source": [
    "#### 7. Постройте график, показывающий зависимость прохождения подготовительного теста от уровня образования родителей.\n",
    "\n",
    "\n",
    "Кто чаще ходит на курсы: дети, родители которых закончили только старшую школу, или дети, чьи родители получили степень бакалавра\\магистра?"
   ]
  },
  {
   "cell_type": "code",
   "execution_count": null,
   "metadata": {
    "colab": {},
    "colab_type": "code",
    "id": "6IVov0O_Jgq4"
   },
   "outputs": [],
   "source": [
    "plt.figure(figsize=(10, 6))\n",
    "sns.countplot(x='parental level of education', hue='test preparation course', data=df)\n",
    "plt.title('Зависимость прохождения подготовительного теста от уровня образования родителей')\n",
    "plt.xticks(rotation=45)\n",
    "plt.show()"
   ]
  },
  {
   "cell_type": "markdown",
   "metadata": {
    "colab_type": "text",
    "id": "8lXO-vmvKqQQ"
   },
   "source": [
    "#### 8. Постройте plot.pie, показывающий, сколько людей сдали\\не сдали экзамен по математике.\n",
    "\n",
    "Сдавшим считается человек, набравший 40 баллов.\n",
    "\n",
    "###### Подсказка: создайте столбец в датафрейме, который содержит результат сдачи (сдал или не сдал)"
   ]
  },
  {
   "cell_type": "code",
   "execution_count": null,
   "metadata": {
    "colab": {},
    "colab_type": "code",
    "id": "avMZyzRrKgzj"
   },
   "outputs": [],
   "source": [
    "# Создание столбца \"сдал/не сдал\"\n",
    "df['math pass/fail'] = df['math score'].apply(lambda x: 'pass' if x >= 40 else 'fail')\n",
    "\n",
    "# Подсчет количества сдавших и не сдавших\n",
    "pass_fail_counts = df['math pass/fail'].value_counts()\n",
    "\n",
    "# Построение круговой диаграммы\n",
    "plt.figure(figsize=(6, 6))\n",
    "plt.pie(pass_fail_counts, labels=pass_fail_counts.index, autopct='%1.1f%%', startangle=90, colors=['lightgreen', 'salmon'])\n",
    "plt.title('Процент сдавших и не сдавших экзамен по математике')\n",
    "plt.show()"
   ]
  },
  {
   "cell_type": "markdown",
   "metadata": {
    "colab_type": "text",
    "id": "CDq0YqVLL6Ce"
   },
   "source": [
    "#### 9. Постройте plot.pie, показывающий распределение студентов по оценкам\n",
    "\n",
    "Оценки студентов выставляются по шкале:<br>\n",
    "0  - 40 marks : grade E<br>\n",
    "41 - 60 marks : grade D<br>\n",
    "60 - 70 marks : grade C<br>\n",
    "70 - 80 marks : grade B<br>\n",
    "80 - 90 marks : grade A<br>\n",
    "90 - 100 marks : grade O<br>\n",
    "\n",
    "Для этого посчитайте сумму результатов за 3 экзамена и найдите среднее. Оценка выставляется по среднему значению. Если студент не сдал математику(даже если средний балл выше 40), он получает Е"
   ]
  },
  {
   "cell_type": "code",
   "execution_count": null,
   "metadata": {
    "colab": {},
    "colab_type": "code",
    "id": "o_7WndmiP4jM"
   },
   "outputs": [],
   "source": [
    "# Функция для выставления оценки\n",
    "def assign_grade(row):\n",
    "    if row['math score'] < 40:\n",
    "        return 'E'\n",
    "    avg_score = (row['math score'] + row['reading score'] + row['writing score']) / 3\n",
    "    if avg_score >= 90:\n",
    "        return 'O'\n",
    "    elif avg_score >= 80:\n",
    "        return 'A'\n",
    "    elif avg_score >= 70:\n",
    "        return 'B'\n",
    "    elif avg_score >= 60:\n",
    "        return 'C'\n",
    "    elif avg_score >= 41:\n",
    "        return 'D'\n",
    "    else:\n",
    "        return 'E'\n",
    "\n",
    "# Добавление столбца с оценками\n",
    "df['grade'] = df.apply(assign_grade, axis=1)\n",
    "\n",
    "# Подсчет количества студентов по оценкам\n",
    "grade_counts = df['grade'].value_counts()\n",
    "\n",
    "# Построение круговой диаграммы\n",
    "plt.figure(figsize=(6, 6))\n",
    "plt.pie(grade_counts, labels=grade_counts.index, autopct='%1.1f%%', startangle=90, colors=sns.color_palette('Set3'))\n",
    "plt.title('Распределение студентов по оценкам')\n",
    "plt.show()"
   ]
  },
  {
   "cell_type": "markdown",
   "metadata": {
    "colab_type": "text",
    "id": "p9hannzMQQT7"
   },
   "source": [
    "#### 10. Постройте countplot, показывающий зависимость между итоговой оценкой студентов и его полом. Студенты какого пола получили больше оценок О, А, В"
   ]
  },
  {
   "cell_type": "code",
   "execution_count": null,
   "metadata": {
    "colab": {},
    "colab_type": "code",
    "id": "b31g7OlGQK-6"
   },
   "outputs": [],
   "source": [
    "plt.figure(figsize=(10, 6))\n",
    "sns.countplot(x='grade', hue='gender', data=df)\n",
    "plt.title('Распределение оценок по полу')\n",
    "plt.xticks(rotation=45)\n",
    "plt.show()"
   ]
  }
 ],
 "metadata": {
  "colab": {
   "collapsed_sections": [],
   "name": "without_code96_hw_visualisation_pandas.ipynb",
   "provenance": []
  },
  "kernelspec": {
   "display_name": "Python 3 (ipykernel)",
   "language": "python",
   "name": "python3"
  },
  "language_info": {
   "codemirror_mode": {
    "name": "ipython",
    "version": 3
   },
   "file_extension": ".py",
   "mimetype": "text/x-python",
   "name": "python",
   "nbconvert_exporter": "python",
   "pygments_lexer": "ipython3",
   "version": "3.10.1"
  }
 },
 "nbformat": 4,
 "nbformat_minor": 1
}
