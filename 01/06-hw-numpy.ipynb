{
 "cells": [
  {
   "cell_type": "markdown",
   "metadata": {},
   "source": [
    "# Домашняя работа. Numpy\n",
    "\n",
    "1. Скачайте этот ноутбук к себе.\n",
    "2. Заполните пропущенные ячейки, отвечая на заданные вопросы. Там должен быть код! (если не сказано обратное)\n",
    "3. Сохраните результат в своём гитхаб репозитории.\n",
    "\n",
    "#### Полезная литература\n",
    "\n",
    "- http://www.numpy.org/\n",
    "- https://jakevdp.github.io/PythonDataScienceHandbook/02.00-introduction-to-numpy.html\n",
    "- https://docs.scipy.org/doc/numpy/user/quickstart.html"
   ]
  },
  {
   "cell_type": "markdown",
   "metadata": {},
   "source": [
    "1) Импортировать numpy и написать версию"
   ]
  },
  {
   "cell_type": "code",
   "execution_count": null,
   "metadata": {},
   "outputs": [],
   "source": [
    "import numpy as np \n",
    "print(np.__version__)"
   ]
  },
  {
   "cell_type": "markdown",
   "metadata": {},
   "source": [
    "2) Создать нулевой вектор размера 10"
   ]
  },
  {
   "cell_type": "code",
   "execution_count": null,
   "metadata": {},
   "outputs": [],
   "source": [
    "import numpy as np\n",
    "zero_vector = np.zeros(10)\n",
    "print(zero_vector)"
   ]
  },
  {
   "cell_type": "markdown",
   "metadata": {},
   "source": [
    "3) Создать вектор заполненный 7-ами размера 7"
   ]
  },
  {
   "cell_type": "code",
   "execution_count": null,
   "metadata": {},
   "outputs": [],
   "source": [
    "import numpy as np\n",
    "seven_vector = np.full(7, 7)\n",
    "print(seven_vector)"
   ]
  },
  {
   "cell_type": "markdown",
   "metadata": {},
   "source": [
    "4) Создать вектор заполненный четными числами от 10 до 100"
   ]
  },
  {
   "cell_type": "code",
   "execution_count": null,
   "metadata": {},
   "outputs": [],
   "source": [
    "import numpy as np\n",
    "even_vector = np.arange(10, 101, 2)\n",
    "print(\"Вектор четных чисел от 10 до 100:\", even_vector)"
   ]
  },
  {
   "cell_type": "markdown",
   "metadata": {},
   "source": [
    "5) Создать массив случайных чисел и развернуть его задом наперёд"
   ]
  },
  {
   "cell_type": "code",
   "execution_count": null,
   "metadata": {},
   "outputs": [],
   "source": [
    "import numpy as np\n",
    "random_array = np.random.rand(5)\n",
    "reversed_array = random_array[::-1]\n",
    "print(random_array)\n",
    "print(reversed_array)"
   ]
  },
  {
   "cell_type": "markdown",
   "metadata": {},
   "source": [
    "6) Создать двумерную матрицу размера 3 на 3, заполненную числами от 0 до 9"
   ]
  },
  {
   "cell_type": "code",
   "execution_count": null,
   "metadata": {},
   "outputs": [],
   "source": [
    "import numpy as np\n",
    "matrix = np.arange(9).reshape(3, 3)\n",
    "print(matrix)"
   ]
  },
  {
   "cell_type": "markdown",
   "metadata": {},
   "source": [
    "7) Создать матрицу размера 4 на 4 с единицами на диагонали смещеной на один наверх."
   ]
  },
  {
   "cell_type": "code",
   "execution_count": null,
   "metadata": {},
   "outputs": [],
   "source": [
    "import numpy as np\n",
    "upper_diagonal_matrix = np.diag(np.ones(4), k=1)\n",
    "print(upper_diagonal_matrix)"
   ]
  },
  {
   "cell_type": "markdown",
   "metadata": {},
   "source": [
    "8) Создать матрицу с числами в диапазоне от 1 до 4 по диагонали. В других ячейках матрицы должны быть семерки."
   ]
  },
  {
   "cell_type": "code",
   "execution_count": null,
   "metadata": {},
   "outputs": [],
   "source": [
    "import numpy as np\n",
    "diagonal_sevens_matrix = np.full((4, 4), 7)\n",
    "np.fill_diagonal(diagonal_sevens_matrix, [1, 2, 3, 4])\n",
    "print(diagonal_sevens_matrix)"
   ]
  },
  {
   "cell_type": "markdown",
   "metadata": {},
   "source": [
    "9) Создать матрицу размера 5 на 5 заполненную чилами от 0 до 4 в строках."
   ]
  },
  {
   "cell_type": "code",
   "execution_count": null,
   "metadata": {},
   "outputs": [],
   "source": [
    "import numpy as np\n",
    "matrix_5x5_rows = np.tile(np.arange(5), (5, 1))\n",
    "print(matrix_5x5_rows)"
   ]
  },
  {
   "cell_type": "markdown",
   "metadata": {},
   "source": [
    "10) Создать матрицу случайных чисел размера 10 на 10 и отнять среднее по строкам из каждого элемента строки"
   ]
  },
  {
   "cell_type": "code",
   "execution_count": null,
   "metadata": {},
   "outputs": [],
   "source": [
    "import numpy as np\n",
    "random_matrix_10x10 = np.random.rand(10, 10)\n",
    "mean_subtracted_matrix = random_matrix_10x10 - random_matrix_10x10.mean(axis=1, keepdims=True)\n",
    "print(mean_subtracted_matrix)"
   ]
  },
  {
   "cell_type": "markdown",
   "metadata": {},
   "source": [
    "11) Создать матрицу случайных чисел размера 10 на 10 и отнять медиану по столбцам из каждого элемента столбца  "
   ]
  },
  {
   "cell_type": "code",
   "execution_count": null,
   "metadata": {},
   "outputs": [],
   "source": [
    "import numpy as np\n",
    "random_matrix_10x10_2 = np.random.rand(10, 10)\n",
    "median_subtracted_matrix = random_matrix_10x10_2 - np.median(random_matrix_10x10_2, axis=0)\n",
    "print(median_subtracted_matrix)"
   ]
  },
  {
   "cell_type": "markdown",
   "metadata": {},
   "source": [
    "12) Создать матрицу случайных чисел 5x5. Добавить к ней столбецы максимумов и минимумов по строкам. Получится матрица 5x7.  "
   ]
  },
  {
   "cell_type": "code",
   "execution_count": null,
   "metadata": {},
   "outputs": [],
   "source": [
    "import numpy as np\n",
    "random_matrix_5x5 = np.random.rand(5, 5)\n",
    "max_column = random_matrix_5x5.max(axis=1, keepdims=True)\n",
    "min_column = random_matrix_5x5.min(axis=1, keepdims=True)\n",
    "extended_matrix = np.hstack((random_matrix_5x5, max_column, min_column))\n",
    "print(extended_matrix)"
   ]
  },
  {
   "cell_type": "markdown",
   "metadata": {},
   "source": [
    "13) Вектор чисел от 1 до 51 преобразовать в вектор нечетных чисел и в вектор четных чисел, поменять их размерности, чтобы получились две матрица. Найти произведение этих матриц. Найти обратную матрицу эётого произведения.  "
   ]
  },
  {
   "cell_type": "code",
   "execution_count": null,
   "metadata": {},
   "outputs": [],
   "source": [
    "import numpy as np\n",
    "\n",
    "# Вектор чисел от 1 до 51\n",
    "vector = np.arange(1, 52)\n",
    "\n",
    "# Нечетные и четные числа\n",
    "odd_numbers = vector[vector % 2 != 0]  # Нечетные числа\n",
    "even_numbers = vector[vector % 2 == 0]  # Четные числа\n",
    "\n",
    "# Изменяем размерность на подходящую\n",
    "# Например, создадим матрицы размером (5, 5) для нечетных чисел\n",
    "# и (5, 5) для первых 25 четных\n",
    "odd_numbers_matrix = odd_numbers[:25].reshape(5, 5)  # Берем первые 25 нечетных чисел\n",
    "even_numbers_matrix = even_numbers.reshape(5, 5)      # Все четные числа\n",
    "\n",
    "# Умножение матриц\n",
    "product_matrix = np.dot(odd_numbers_matrix, even_numbers_matrix.T)\n",
    "\n",
    "# Находим обратную матрицу\n",
    "try:\n",
    "    inverse_matrix = np.linalg.inv(product_matrix)\n",
    "    print(\"\\nПроизведение матриц:\\n\", product_matrix)\n",
    "    print(\"\\nОбратная матрица:\\n\", inverse_matrix)\n",
    "except np.linalg.LinAlgError:\n",
    "    print(\"Обратная матрица не существует.\")\n",
    "\n",
    "# Выводим векторы\n",
    "print(\"\\nНечетные числа:\\n\", odd_numbers)\n",
    "print(\"\\nЧетные числа:\\n\", even_numbers)"
   ]
  },
  {
   "cell_type": "markdown",
   "metadata": {},
   "source": [
    "14) Создать 8x8 матрицу и заполнить её в шахматном порядке нулями и единицами. "
   ]
  },
  {
   "cell_type": "code",
   "execution_count": null,
   "metadata": {},
   "outputs": [],
   "source": [
    "import numpy as np\n",
    "chessboard = np.zeros((8, 8), dtype=int)\n",
    "chessboard[1::2, ::2] = 1\n",
    "chessboard[::2, 1::2] = 1\n",
    "print(chessboard)"
   ]
  }
 ],
 "metadata": {
  "kernelspec": {
   "display_name": "Python 3 (ipykernel)",
   "language": "python",
   "name": "python3"
  },
  "language_info": {
   "codemirror_mode": {
    "name": "ipython",
    "version": 3
   },
   "file_extension": ".py",
   "mimetype": "text/x-python",
   "name": "python",
   "nbconvert_exporter": "python",
   "pygments_lexer": "ipython3",
   "version": "3.12.4"
  }
 },
 "nbformat": 4,
 "nbformat_minor": 4
}
